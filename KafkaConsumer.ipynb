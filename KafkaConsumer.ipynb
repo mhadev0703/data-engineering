{
 "cells": [
  {
   "cell_type": "code",
   "execution_count": null,
   "id": "e018cf7d",
   "metadata": {
    "collapsed": true
   },
   "outputs": [],
   "source": [
    "pip install s3fs"
   ]
  },
  {
   "cell_type": "code",
   "execution_count": 2,
   "id": "4681084d",
   "metadata": {},
   "outputs": [],
   "source": [
    "import os\n",
    "from kafka import KafkaConsumer\n",
    "from time import sleep\n",
    "from json import dumps,loads\n",
    "import json\n",
    "from s3fs import S3FileSystem\n",
    "from dotenv import load_dotenv"
   ]
  },
  {
   "cell_type": "code",
   "execution_count": null,
   "id": "5a1a547c",
   "metadata": {},
   "outputs": [],
   "source": [
    "load_dotenv()"
   ]
  },
  {
   "cell_type": "code",
   "execution_count": null,
   "id": "3770cfbf",
   "metadata": {},
   "outputs": [],
   "source": [
    "KAFKA_SERVER = os.getenv('KAFKA_SERVER')\n",
    "KAFKA_PORT = os.getenv('KAFKA_PORT')\n",
    "S3_BUCKET = os.getenv('S3_BUCKET')"
   ]
  },
  {
   "cell_type": "code",
   "execution_count": 3,
   "id": "13350600",
   "metadata": {},
   "outputs": [],
   "source": [
    "consumer = KafkaConsumer(\n",
    "    'demo_test',\n",
    "     bootstrap_servers=[f\"{KAFKA_SERVER}:{KAFKA_PORT}\"], \n",
    "    value_deserializer=lambda x: loads(x.decode('utf-8')))"
   ]
  },
  {
   "cell_type": "code",
   "execution_count": 4,
   "id": "3f864f5a",
   "metadata": {},
   "outputs": [],
   "source": [
    "s3 = S3FileSystem()"
   ]
  },
  {
   "cell_type": "code",
   "execution_count": null,
   "id": "e6bfdfdb",
   "metadata": {},
   "outputs": [],
   "source": [
    "for count, i in enumerate(consumer):\n",
    "    s3_path = f\"s3://{S3_BUCKET}/stock_market_{count}.json\"\n",
    "    with s3.open(s3_path, 'w') as file:\n",
    "        json.dump(i.value, file)"
   ]
  },
  {
   "cell_type": "code",
   "execution_count": null,
   "id": "18e906e9",
   "metadata": {},
   "outputs": [],
   "source": []
  }
 ],
 "metadata": {
  "kernelspec": {
   "display_name": "Python 3 (ipykernel)",
   "language": "python",
   "name": "python3"
  },
  "language_info": {
   "codemirror_mode": {
    "name": "ipython",
    "version": 3
   },
   "file_extension": ".py",
   "mimetype": "text/x-python",
   "name": "python",
   "nbconvert_exporter": "python",
   "pygments_lexer": "ipython3",
   "version": "3.11.4"
  }
 },
 "nbformat": 4,
 "nbformat_minor": 5
}
