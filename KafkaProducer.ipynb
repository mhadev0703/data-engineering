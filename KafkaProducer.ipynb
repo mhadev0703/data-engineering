{
 "cells": [
  {
   "cell_type": "code",
   "execution_count": null,
   "id": "d94f023b",
   "metadata": {
    "collapsed": true
   },
   "outputs": [],
   "source": [
    "pip install kafka-python"
   ]
  },
  {
   "cell_type": "code",
   "execution_count": 56,
   "id": "e06ccf98",
   "metadata": {},
   "outputs": [],
   "source": [
    "import os\n",
    "import pandas as pd\n",
    "from kafka import KafkaProducer\n",
    "from json import dumps\n",
    "from time import time\n",
    "from dotenv import load_dotenv"
   ]
  },
  {
   "cell_type": "code",
   "execution_count": 57,
   "id": "ad8ba26d",
   "metadata": {},
   "outputs": [],
   "source": [
    "# Load environment variables from .env file\n",
    "load_dotenv()\n",
    "KAFKA_SERVER = os.getenv('KAFKA_SERVER')\n",
    "KAFKA_PORT = os.getenv('KAFKA_PORT')"
   ]
  },
  {
   "cell_type": "code",
   "execution_count": 58,
   "id": "a3246fb5",
   "metadata": {},
   "outputs": [],
   "source": [
    "# Initialize Kafka producer with optimized settings\n",
    "producer = KafkaProducer(\n",
    "    bootstrap_servers=[f\"{KAFKA_SERVER}:{KAFKA_PORT}\"], \n",
    "    value_serializer=lambda x: dumps(x).encode('utf-8'),\n",
    "    batch_size=65536,  # Batch size of 64 KB\n",
    "    linger_ms=20,  # 20 ms delay to optimize batching\n",
    "    compression_type='lz4'  # Use LZ4 compression for faster processing\n",
    ")"
   ]
  },
  {
   "cell_type": "code",
   "execution_count": 59,
   "id": "1373239c",
   "metadata": {},
   "outputs": [],
   "source": [
    "# Load CSV data\n",
    "df = pd.read_csv(\"data/indexProcessed.csv\")"
   ]
  },
  {
   "cell_type": "code",
   "execution_count": 60,
   "id": "ff2878f8",
   "metadata": {},
   "outputs": [],
   "source": [
    "# Number of messages to send\n",
    "num_messages = 5000"
   ]
  },
  {
   "cell_type": "code",
   "execution_count": 61,
   "id": "22b7ab65",
   "metadata": {},
   "outputs": [],
   "source": [
    "# Record the start time\n",
    "start_time = time()"
   ]
  },
  {
   "cell_type": "code",
   "execution_count": 62,
   "id": "b3cb2262",
   "metadata": {},
   "outputs": [],
   "source": [
    "# Send messages to Kafka topic\n",
    "for _ in range(num_messages):\n",
    "    dict_stock = df.sample(1).to_dict(orient=\"records\")[0]\n",
    "    producer.send('demo_test', value=dict_stock)"
   ]
  },
  {
   "cell_type": "code",
   "execution_count": 63,
   "id": "c1cc39c8",
   "metadata": {},
   "outputs": [],
   "source": [
    "# Ensure all messages are sent before measuring the end time\n",
    "producer.flush()"
   ]
  },
  {
   "cell_type": "code",
   "execution_count": 64,
   "id": "103cbe40",
   "metadata": {},
   "outputs": [],
   "source": [
    "# Record the end time\n",
    "end_time = time()"
   ]
  },
  {
   "cell_type": "code",
   "execution_count": 65,
   "id": "b7e2d6ac",
   "metadata": {},
   "outputs": [
    {
     "name": "stdout",
     "output_type": "stream",
     "text": [
      "Sent 5000 messages in 18.27 seconds\n",
      "Average throughput: 273.69 messages/second\n"
     ]
    }
   ],
   "source": [
    "# Calculate and display the total time and average throughput\n",
    "total_time = end_time - start_time\n",
    "print(f\"Sent {num_messages} messages in {total_time:.2f} seconds\")\n",
    "print(f\"Average throughput: {num_messages / total_time:.2f} messages/second\")"
   ]
  },
  {
   "cell_type": "code",
   "execution_count": null,
   "id": "32f5713b",
   "metadata": {},
   "outputs": [],
   "source": []
  }
 ],
 "metadata": {
  "kernelspec": {
   "display_name": "Python 3 (ipykernel)",
   "language": "python",
   "name": "python3"
  },
  "language_info": {
   "codemirror_mode": {
    "name": "ipython",
    "version": 3
   },
   "file_extension": ".py",
   "mimetype": "text/x-python",
   "name": "python",
   "nbconvert_exporter": "python",
   "pygments_lexer": "ipython3",
   "version": "3.11.4"
  }
 },
 "nbformat": 4,
 "nbformat_minor": 5
}
