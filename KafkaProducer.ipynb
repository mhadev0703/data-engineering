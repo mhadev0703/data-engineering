{
 "cells": [
  {
   "cell_type": "code",
   "execution_count": null,
   "id": "d94f023b",
   "metadata": {
    "collapsed": true
   },
   "outputs": [],
   "source": [
    "pip install kafka-python"
   ]
  },
  {
   "cell_type": "code",
   "execution_count": 23,
   "id": "e06ccf98",
   "metadata": {},
   "outputs": [],
   "source": [
    "import os\n",
    "import pandas as pd\n",
    "from kafka import KafkaProducer\n",
    "from time import sleep\n",
    "from json import dumps\n",
    "from time import time\n",
    "import json\n",
    "from dotenv import load_dotenv"
   ]
  },
  {
   "cell_type": "code",
   "execution_count": 24,
   "id": "596f3b3f",
   "metadata": {},
   "outputs": [
    {
     "data": {
      "text/plain": [
       "True"
      ]
     },
     "execution_count": 24,
     "metadata": {},
     "output_type": "execute_result"
    }
   ],
   "source": [
    "load_dotenv()"
   ]
  },
  {
   "cell_type": "code",
   "execution_count": 25,
   "id": "ad8ba26d",
   "metadata": {},
   "outputs": [],
   "source": [
    "KAFKA_SERVER = os.getenv('KAFKA_SERVER')\n",
    "KAFKA_PORT = os.getenv('KAFKA_PORT')"
   ]
  },
  {
   "cell_type": "code",
   "execution_count": 26,
   "id": "a3246fb5",
   "metadata": {},
   "outputs": [],
   "source": [
    "producer = KafkaProducer(bootstrap_servers=[f\"{KAFKA_SERVER}:{KAFKA_PORT}\"], \n",
    "                         value_serializer=lambda x: \n",
    "                         dumps(x).encode('utf-8'),\n",
    "                         batch_size=32768,\n",
    "                         linger_ms=20,\n",
    "                         compression_type='lz4')"
   ]
  },
  {
   "cell_type": "code",
   "execution_count": 27,
   "id": "1373239c",
   "metadata": {},
   "outputs": [],
   "source": [
    "df = pd.read_csv(\"data/indexProcessed.csv\")"
   ]
  },
  {
   "cell_type": "code",
   "execution_count": 28,
   "id": "ff2878f8",
   "metadata": {},
   "outputs": [],
   "source": [
    "num_messages = 5000"
   ]
  },
  {
   "cell_type": "code",
   "execution_count": 29,
   "id": "22b7ab65",
   "metadata": {},
   "outputs": [],
   "source": [
    "start_time = time()"
   ]
  },
  {
   "cell_type": "code",
   "execution_count": 30,
   "id": "b3cb2262",
   "metadata": {},
   "outputs": [],
   "source": [
    "for _ in range(num_messages):\n",
    "    dict_stock = df.sample(1).to_dict(orient=\"records\")[0]\n",
    "    producer.send('demo_test', value=dict_stock)"
   ]
  },
  {
   "cell_type": "code",
   "execution_count": 31,
   "id": "c1cc39c8",
   "metadata": {},
   "outputs": [],
   "source": [
    "producer.flush()"
   ]
  },
  {
   "cell_type": "code",
   "execution_count": 32,
   "id": "103cbe40",
   "metadata": {},
   "outputs": [],
   "source": [
    "end_time = time()"
   ]
  },
  {
   "cell_type": "code",
   "execution_count": 33,
   "id": "b7e2d6ac",
   "metadata": {},
   "outputs": [
    {
     "name": "stdout",
     "output_type": "stream",
     "text": [
      "Sent 5000 messages in 16.78 seconds\n",
      "Average throughput: 297.95 messages/second\n"
     ]
    }
   ],
   "source": [
    "total_time = end_time - start_time\n",
    "print(f\"Sent {num_messages} messages in {total_time:.2f} seconds\")\n",
    "print(f\"Average throughput: {num_messages / total_time:.2f} messages/second\")"
   ]
  },
  {
   "cell_type": "code",
   "execution_count": null,
   "id": "32f5713b",
   "metadata": {},
   "outputs": [],
   "source": []
  }
 ],
 "metadata": {
  "kernelspec": {
   "display_name": "Python 3 (ipykernel)",
   "language": "python",
   "name": "python3"
  },
  "language_info": {
   "codemirror_mode": {
    "name": "ipython",
    "version": 3
   },
   "file_extension": ".py",
   "mimetype": "text/x-python",
   "name": "python",
   "nbconvert_exporter": "python",
   "pygments_lexer": "ipython3",
   "version": "3.11.4"
  }
 },
 "nbformat": 4,
 "nbformat_minor": 5
}
